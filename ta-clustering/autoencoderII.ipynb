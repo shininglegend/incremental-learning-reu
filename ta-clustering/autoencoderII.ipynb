{
 "cells": [
  {
   "cell_type": "code",
   "execution_count": 1,
   "id": "9d66ec29-592b-42c0-9a43-a0fa2255fd32",
   "metadata": {},
   "outputs": [],
   "source": [
    "# Torch is for PyTorch which is a deep learning framework used for neural networks\n",
    "import torch\n",
    "import torch.nn as nn\n",
    "import torch.optim as optim\n",
    "from torchvision import transforms, datasets\n",
    "#For plotting\n",
    "import matplotlib.pyplot as plt\n",
    "\n",
    "import pandas as pd"
   ]
  },
  {
   "cell_type": "code",
   "execution_count": 2,
   "id": "676eb2b2-6e16-42ff-a990-c3cbf48b9318",
   "metadata": {},
   "outputs": [],
   "source": [
    "# For ...\n",
    "transform = transforms.ToTensor()\n",
    "\n",
    "#transform = transforms.Compose([\n",
    "#    transforms.ToTensor(),\n",
    "#    transforms.Normalize((0.5),(0.5))\n",
    "#])\n",
    "\n",
    "#coil_data_df = pd.read_csv('ticdata2000.txt', sep='\\t', header=None)\n",
    "#coil_data_df.to_csv('ticdata2000.csv', index=False)\n",
    "\n",
    "mnist_data = datasets.MNIST(root='./',train=True, download=True, transform=transform)\n",
    "\n",
    "# See Patrick Loeber video about this more specifically\n",
    "data_loader = torch.utils.data.DataLoader(dataset=mnist_data,\n",
    "                                          batch_size=64,\n",
    "                                          shuffle=True)"
   ]
  },
  {
   "cell_type": "code",
   "execution_count": 3,
   "id": "fe366439-e882-45b8-9c93-0baa209a6fcf",
   "metadata": {},
   "outputs": [
    {
     "name": "stdout",
     "output_type": "stream",
     "text": [
      "tensor(0.) tensor(1.)\n"
     ]
    }
   ],
   "source": [
    "dataiter = iter(data_loader)\n",
    "images, labels = next(dataiter)\n",
    "print(torch.min(images), torch.max(images))"
   ]
  },
  {
   "cell_type": "code",
   "execution_count": 4,
   "id": "50d387c3-39ff-490a-a518-ac0e50c0b680",
   "metadata": {},
   "outputs": [],
   "source": [
    "class Autoencoder(nn.Module):\n",
    "    def __init__(self):\n",
    "        # N, 784\n",
    "\n",
    "        super().__init__()\n",
    "        \n",
    "        self.encoder = nn.Sequential(\n",
    "            nn.Linear(28*28, 128), # N, 784 --> N, 128\n",
    "            nn.ReLU(), \n",
    "            nn.Linear(128,64),\n",
    "            nn.ReLU(),\n",
    "            nn.Linear(64, 12),\n",
    "            nn.ReLU(),\n",
    "            nn.Linear(12,3) # --> N, 3\n",
    "        )\n",
    "\n",
    "        self.decoder = nn.Sequential(\n",
    "            nn.Linear(3, 12),\n",
    "            nn.ReLU(), \n",
    "            nn.Linear(12,64),\n",
    "            nn.ReLU(),\n",
    "            nn.Linear(64, 128),\n",
    "            nn.ReLU(),\n",
    "            nn.Linear(128, 28*28),\n",
    "            nn.Sigmoid() # N, 3 --> N, 784\n",
    "        )\n",
    "            \n",
    "    def forward(self, x):\n",
    "        encoded = self.encoder(x)\n",
    "        decoded = self.decoder(encoded)\n",
    "        return decoded"
   ]
  },
  {
   "cell_type": "code",
   "execution_count": 5,
   "id": "fa7bb0fd-3246-48ff-a137-249b7c399fc4",
   "metadata": {},
   "outputs": [],
   "source": [
    "model = Autoencoder()\n",
    "criterion = nn.MSELoss()\n",
    "optimizer = torch.optim.Adam(model.parameters(), lr=1e-3, weight_decay=1e-5)"
   ]
  },
  {
   "cell_type": "code",
   "execution_count": 13,
   "id": "bf5deaac-1f2b-4a83-af54-e98d053947ff",
   "metadata": {},
   "outputs": [
    {
     "name": "stdout",
     "output_type": "stream",
     "text": [
      "Epoch:1, Loss: 0.043879\n",
      "Epoch:2, Loss: 0.044147\n",
      "Epoch:3, Loss: 0.043394\n",
      "Epoch:4, Loss: 0.034475\n",
      "Epoch:5, Loss: 0.032627\n",
      "Epoch:6, Loss: 0.037653\n",
      "Epoch:7, Loss: 0.039189\n",
      "Epoch:8, Loss: 0.036148\n",
      "Epoch:9, Loss: 0.034107\n",
      "Epoch:10, Loss: 0.037434\n"
     ]
    }
   ],
   "source": [
    "num_epochs = 10\n",
    "outputs = []\n",
    "for epoch in range(num_epochs):\n",
    "    for (img, _) in data_loader:\n",
    "        img = img. reshape(-1, 28*28)\n",
    "        recon = model(img)\n",
    "        loss = criterion(recon, img)\n",
    "\n",
    "        optimizer.zero_grad()\n",
    "        loss.backward()\n",
    "        optimizer.step()\n",
    "\n",
    "    print(f'Epoch:{epoch+1}, Loss:{loss.item(): 4f}')\n",
    "    outputs.append((epoch, img, recon))"
   ]
  },
  {
   "cell_type": "code",
   "execution_count": null,
   "id": "c3afe734-b9ae-4774-a41a-26d8dba56b81",
   "metadata": {},
   "outputs": [],
   "source": [
    "for k in range (0, num_epochs, 4):\n",
    "    plt.figure(figsize=(9,2))\n",
    "    plt.gray()\n",
    "    imgs = outputs[k][1].detach().numpy()\n",
    "    recon = outputs[k][2].detach().numpy()\n",
    "    for i, item in enumerate(imgs):\n",
    "        if i >= 9: break\n",
    "        plt.subplot(2, 9, i+1)\n",
    "        item = item.reshape(-1, 28, 28)\n",
    "        # item: 1, 28, 28\n",
    "        plt.imshow(item[0])\n",
    "\n",
    "    for i, item in enumerate(recon):\n",
    "        if i >= 9: break\n",
    "        plt.subplot(2,9, 9+i+1) # row_length + i + 1\n",
    "        item = item.reshape(-1, 28, 28)\n",
    "        # item: 1, 28, 28\n",
    "        plt.imshow(item[0])"
   ]
  },
  {
   "cell_type": "code",
   "execution_count": null,
   "id": "7d23f2e2-ae2e-4cb1-8ce3-6d3d12064c2d",
   "metadata": {},
   "outputs": [],
   "source": []
  }
 ],
 "metadata": {
  "kernelspec": {
   "display_name": "Python 3 (ipykernel)",
   "language": "python",
   "name": "python3"
  },
  "language_info": {
   "codemirror_mode": {
    "name": "ipython",
    "version": 3
   },
   "file_extension": ".py",
   "mimetype": "text/x-python",
   "name": "python",
   "nbconvert_exporter": "python",
   "pygments_lexer": "ipython3",
   "version": "3.12.4"
  }
 },
 "nbformat": 4,
 "nbformat_minor": 5
}
